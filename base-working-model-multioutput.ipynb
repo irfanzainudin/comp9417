{
 "cells": [
  {
   "cell_type": "markdown",
   "id": "44034dac",
   "metadata": {
    "papermill": {
     "duration": 0.015053,
     "end_time": "2023-07-18T00:40:57.859001",
     "exception": false,
     "start_time": "2023-07-18T00:40:57.843948",
     "status": "completed"
    },
    "tags": []
   },
   "source": [
    "Problem statement\n",
    "The goal of this competition is to assess the language proficiency of 8th-12th grade English Language Learners (ELLs). Utilizing a dataset of essays written by ELLs will help to develop proficiency models that better supports all students."
   ]
  },
  {
   "cell_type": "markdown",
   "id": "b206966b",
   "metadata": {
    "papermill": {
     "duration": 0.013446,
     "end_time": "2023-07-18T00:40:57.886204",
     "exception": false,
     "start_time": "2023-07-18T00:40:57.872758",
     "status": "completed"
    },
    "tags": []
   },
   "source": [
    "Import libraries"
   ]
  },
  {
   "cell_type": "code",
   "execution_count": 1,
   "id": "99c87824",
   "metadata": {
    "execution": {
     "iopub.execute_input": "2023-07-18T00:40:57.916558Z",
     "iopub.status.busy": "2023-07-18T00:40:57.915509Z",
     "iopub.status.idle": "2023-07-18T00:40:59.189220Z",
     "shell.execute_reply": "2023-07-18T00:40:59.187788Z"
    },
    "papermill": {
     "duration": 1.293171,
     "end_time": "2023-07-18T00:40:59.192795",
     "exception": false,
     "start_time": "2023-07-18T00:40:57.899624",
     "status": "completed"
    },
    "tags": []
   },
   "outputs": [],
   "source": [
    "import numpy as np # linear algebra\n",
    "import pandas as pd # data processing, CSV file I/O (e.g. pd.read_csv)\n",
    "import os\n",
    "import matplotlib.pyplot as plt\n",
    "import seaborn as sns"
   ]
  },
  {
   "cell_type": "markdown",
   "id": "c7b1cf1d",
   "metadata": {
    "papermill": {
     "duration": 0.014008,
     "end_time": "2023-07-18T00:40:59.223187",
     "exception": false,
     "start_time": "2023-07-18T00:40:59.209179",
     "status": "completed"
    },
    "tags": []
   },
   "source": [
    "Load files"
   ]
  },
  {
   "cell_type": "code",
   "execution_count": 2,
   "id": "7432644d",
   "metadata": {
    "execution": {
     "iopub.execute_input": "2023-07-18T00:40:59.253730Z",
     "iopub.status.busy": "2023-07-18T00:40:59.253058Z",
     "iopub.status.idle": "2023-07-18T00:40:59.263778Z",
     "shell.execute_reply": "2023-07-18T00:40:59.262318Z"
    },
    "papermill": {
     "duration": 0.029997,
     "end_time": "2023-07-18T00:40:59.267296",
     "exception": false,
     "start_time": "2023-07-18T00:40:59.237299",
     "status": "completed"
    },
    "tags": []
   },
   "outputs": [
    {
     "name": "stdout",
     "output_type": "stream",
     "text": [
      "/kaggle/input/feedback-prize-english-language-learning/sample_submission.csv\n",
      "/kaggle/input/feedback-prize-english-language-learning/train.csv\n",
      "/kaggle/input/feedback-prize-english-language-learning/test.csv\n"
     ]
    }
   ],
   "source": [
    "for dirname, _, filenames in os.walk('/kaggle/input'):\n",
    "    for filename in filenames:\n",
    "        print(os.path.join(dirname, filename))"
   ]
  },
  {
   "cell_type": "markdown",
   "id": "3c2bd885",
   "metadata": {
    "papermill": {
     "duration": 0.013597,
     "end_time": "2023-07-18T00:40:59.294905",
     "exception": false,
     "start_time": "2023-07-18T00:40:59.281308",
     "status": "completed"
    },
    "tags": []
   },
   "source": [
    "Read files"
   ]
  },
  {
   "cell_type": "code",
   "execution_count": 3,
   "id": "bb8d984f",
   "metadata": {
    "execution": {
     "iopub.execute_input": "2023-07-18T00:40:59.325766Z",
     "iopub.status.busy": "2023-07-18T00:40:59.325248Z",
     "iopub.status.idle": "2023-07-18T00:40:59.594977Z",
     "shell.execute_reply": "2023-07-18T00:40:59.593550Z"
    },
    "papermill": {
     "duration": 0.289532,
     "end_time": "2023-07-18T00:40:59.598517",
     "exception": false,
     "start_time": "2023-07-18T00:40:59.308985",
     "status": "completed"
    },
    "tags": []
   },
   "outputs": [],
   "source": [
    "train = pd.read_csv(\"/kaggle/input/feedback-prize-english-language-learning/train.csv\")\n",
    "test = pd.read_csv(\"/kaggle/input/feedback-prize-english-language-learning/test.csv\")\n",
    "submission = pd.read_csv(\"/kaggle/input/feedback-prize-english-language-learning/sample_submission.csv\")"
   ]
  },
  {
   "cell_type": "code",
   "execution_count": 4,
   "id": "2b3055e3",
   "metadata": {
    "execution": {
     "iopub.execute_input": "2023-07-18T00:40:59.629246Z",
     "iopub.status.busy": "2023-07-18T00:40:59.628771Z",
     "iopub.status.idle": "2023-07-18T00:40:59.665040Z",
     "shell.execute_reply": "2023-07-18T00:40:59.663859Z"
    },
    "papermill": {
     "duration": 0.05582,
     "end_time": "2023-07-18T00:40:59.668512",
     "exception": false,
     "start_time": "2023-07-18T00:40:59.612692",
     "status": "completed"
    },
    "tags": []
   },
   "outputs": [
    {
     "data": {
      "text/html": [
       "<div>\n",
       "<style scoped>\n",
       "    .dataframe tbody tr th:only-of-type {\n",
       "        vertical-align: middle;\n",
       "    }\n",
       "\n",
       "    .dataframe tbody tr th {\n",
       "        vertical-align: top;\n",
       "    }\n",
       "\n",
       "    .dataframe thead th {\n",
       "        text-align: right;\n",
       "    }\n",
       "</style>\n",
       "<table border=\"1\" class=\"dataframe\">\n",
       "  <thead>\n",
       "    <tr style=\"text-align: right;\">\n",
       "      <th></th>\n",
       "      <th>text_id</th>\n",
       "      <th>full_text</th>\n",
       "      <th>cohesion</th>\n",
       "      <th>syntax</th>\n",
       "      <th>vocabulary</th>\n",
       "      <th>phraseology</th>\n",
       "      <th>grammar</th>\n",
       "      <th>conventions</th>\n",
       "    </tr>\n",
       "  </thead>\n",
       "  <tbody>\n",
       "    <tr>\n",
       "      <th>0</th>\n",
       "      <td>0016926B079C</td>\n",
       "      <td>I think that students would benefit from learn...</td>\n",
       "      <td>3.5</td>\n",
       "      <td>3.5</td>\n",
       "      <td>3.0</td>\n",
       "      <td>3.0</td>\n",
       "      <td>4.0</td>\n",
       "      <td>3.0</td>\n",
       "    </tr>\n",
       "    <tr>\n",
       "      <th>1</th>\n",
       "      <td>0022683E9EA5</td>\n",
       "      <td>When a problem is a change you have to let it ...</td>\n",
       "      <td>2.5</td>\n",
       "      <td>2.5</td>\n",
       "      <td>3.0</td>\n",
       "      <td>2.0</td>\n",
       "      <td>2.0</td>\n",
       "      <td>2.5</td>\n",
       "    </tr>\n",
       "    <tr>\n",
       "      <th>2</th>\n",
       "      <td>00299B378633</td>\n",
       "      <td>Dear, Principal\\n\\nIf u change the school poli...</td>\n",
       "      <td>3.0</td>\n",
       "      <td>3.5</td>\n",
       "      <td>3.0</td>\n",
       "      <td>3.0</td>\n",
       "      <td>3.0</td>\n",
       "      <td>2.5</td>\n",
       "    </tr>\n",
       "    <tr>\n",
       "      <th>3</th>\n",
       "      <td>003885A45F42</td>\n",
       "      <td>The best time in life is when you become yours...</td>\n",
       "      <td>4.5</td>\n",
       "      <td>4.5</td>\n",
       "      <td>4.5</td>\n",
       "      <td>4.5</td>\n",
       "      <td>4.0</td>\n",
       "      <td>5.0</td>\n",
       "    </tr>\n",
       "    <tr>\n",
       "      <th>4</th>\n",
       "      <td>0049B1DF5CCC</td>\n",
       "      <td>Small act of kindness can impact in other peop...</td>\n",
       "      <td>2.5</td>\n",
       "      <td>3.0</td>\n",
       "      <td>3.0</td>\n",
       "      <td>3.0</td>\n",
       "      <td>2.5</td>\n",
       "      <td>2.5</td>\n",
       "    </tr>\n",
       "    <tr>\n",
       "      <th>...</th>\n",
       "      <td>...</td>\n",
       "      <td>...</td>\n",
       "      <td>...</td>\n",
       "      <td>...</td>\n",
       "      <td>...</td>\n",
       "      <td>...</td>\n",
       "      <td>...</td>\n",
       "      <td>...</td>\n",
       "    </tr>\n",
       "    <tr>\n",
       "      <th>3906</th>\n",
       "      <td>FFD29828A873</td>\n",
       "      <td>I believe using cellphones in class for educat...</td>\n",
       "      <td>2.5</td>\n",
       "      <td>3.0</td>\n",
       "      <td>3.0</td>\n",
       "      <td>3.5</td>\n",
       "      <td>2.5</td>\n",
       "      <td>2.5</td>\n",
       "    </tr>\n",
       "    <tr>\n",
       "      <th>3907</th>\n",
       "      <td>FFD9A83B0849</td>\n",
       "      <td>Working alone, students do not have to argue w...</td>\n",
       "      <td>4.0</td>\n",
       "      <td>4.0</td>\n",
       "      <td>4.0</td>\n",
       "      <td>4.0</td>\n",
       "      <td>3.5</td>\n",
       "      <td>3.0</td>\n",
       "    </tr>\n",
       "    <tr>\n",
       "      <th>3908</th>\n",
       "      <td>FFDC4011AC9C</td>\n",
       "      <td>\"A problem is a chance for you to do your best...</td>\n",
       "      <td>2.5</td>\n",
       "      <td>3.0</td>\n",
       "      <td>3.0</td>\n",
       "      <td>3.0</td>\n",
       "      <td>3.5</td>\n",
       "      <td>3.0</td>\n",
       "    </tr>\n",
       "    <tr>\n",
       "      <th>3909</th>\n",
       "      <td>FFE16D704B16</td>\n",
       "      <td>Many people disagree with Albert Schweitzer's ...</td>\n",
       "      <td>4.0</td>\n",
       "      <td>4.5</td>\n",
       "      <td>4.5</td>\n",
       "      <td>4.0</td>\n",
       "      <td>4.5</td>\n",
       "      <td>4.5</td>\n",
       "    </tr>\n",
       "    <tr>\n",
       "      <th>3910</th>\n",
       "      <td>FFED00D6E0BD</td>\n",
       "      <td>Do you think that failure is the main thing fo...</td>\n",
       "      <td>3.5</td>\n",
       "      <td>2.5</td>\n",
       "      <td>3.5</td>\n",
       "      <td>3.0</td>\n",
       "      <td>3.0</td>\n",
       "      <td>3.5</td>\n",
       "    </tr>\n",
       "  </tbody>\n",
       "</table>\n",
       "<p>3911 rows × 8 columns</p>\n",
       "</div>"
      ],
      "text/plain": [
       "           text_id                                          full_text  \\\n",
       "0     0016926B079C  I think that students would benefit from learn...   \n",
       "1     0022683E9EA5  When a problem is a change you have to let it ...   \n",
       "2     00299B378633  Dear, Principal\\n\\nIf u change the school poli...   \n",
       "3     003885A45F42  The best time in life is when you become yours...   \n",
       "4     0049B1DF5CCC  Small act of kindness can impact in other peop...   \n",
       "...            ...                                                ...   \n",
       "3906  FFD29828A873  I believe using cellphones in class for educat...   \n",
       "3907  FFD9A83B0849  Working alone, students do not have to argue w...   \n",
       "3908  FFDC4011AC9C  \"A problem is a chance for you to do your best...   \n",
       "3909  FFE16D704B16  Many people disagree with Albert Schweitzer's ...   \n",
       "3910  FFED00D6E0BD  Do you think that failure is the main thing fo...   \n",
       "\n",
       "      cohesion  syntax  vocabulary  phraseology  grammar  conventions  \n",
       "0          3.5     3.5         3.0          3.0      4.0          3.0  \n",
       "1          2.5     2.5         3.0          2.0      2.0          2.5  \n",
       "2          3.0     3.5         3.0          3.0      3.0          2.5  \n",
       "3          4.5     4.5         4.5          4.5      4.0          5.0  \n",
       "4          2.5     3.0         3.0          3.0      2.5          2.5  \n",
       "...        ...     ...         ...          ...      ...          ...  \n",
       "3906       2.5     3.0         3.0          3.5      2.5          2.5  \n",
       "3907       4.0     4.0         4.0          4.0      3.5          3.0  \n",
       "3908       2.5     3.0         3.0          3.0      3.5          3.0  \n",
       "3909       4.0     4.5         4.5          4.0      4.5          4.5  \n",
       "3910       3.5     2.5         3.5          3.0      3.0          3.5  \n",
       "\n",
       "[3911 rows x 8 columns]"
      ]
     },
     "execution_count": 4,
     "metadata": {},
     "output_type": "execute_result"
    }
   ],
   "source": [
    "train"
   ]
  },
  {
   "cell_type": "code",
   "execution_count": 5,
   "id": "66809d0a",
   "metadata": {
    "execution": {
     "iopub.execute_input": "2023-07-18T00:40:59.698456Z",
     "iopub.status.busy": "2023-07-18T00:40:59.698040Z",
     "iopub.status.idle": "2023-07-18T00:40:59.709360Z",
     "shell.execute_reply": "2023-07-18T00:40:59.707911Z"
    },
    "papermill": {
     "duration": 0.029301,
     "end_time": "2023-07-18T00:40:59.711958",
     "exception": false,
     "start_time": "2023-07-18T00:40:59.682657",
     "status": "completed"
    },
    "tags": []
   },
   "outputs": [
    {
     "data": {
      "text/html": [
       "<div>\n",
       "<style scoped>\n",
       "    .dataframe tbody tr th:only-of-type {\n",
       "        vertical-align: middle;\n",
       "    }\n",
       "\n",
       "    .dataframe tbody tr th {\n",
       "        vertical-align: top;\n",
       "    }\n",
       "\n",
       "    .dataframe thead th {\n",
       "        text-align: right;\n",
       "    }\n",
       "</style>\n",
       "<table border=\"1\" class=\"dataframe\">\n",
       "  <thead>\n",
       "    <tr style=\"text-align: right;\">\n",
       "      <th></th>\n",
       "      <th>text_id</th>\n",
       "      <th>full_text</th>\n",
       "    </tr>\n",
       "  </thead>\n",
       "  <tbody>\n",
       "    <tr>\n",
       "      <th>0</th>\n",
       "      <td>0000C359D63E</td>\n",
       "      <td>when a person has no experience on a job their...</td>\n",
       "    </tr>\n",
       "    <tr>\n",
       "      <th>1</th>\n",
       "      <td>000BAD50D026</td>\n",
       "      <td>Do you think students would benefit from being...</td>\n",
       "    </tr>\n",
       "    <tr>\n",
       "      <th>2</th>\n",
       "      <td>00367BB2546B</td>\n",
       "      <td>Thomas Jefferson once states that \"it is wonde...</td>\n",
       "    </tr>\n",
       "  </tbody>\n",
       "</table>\n",
       "</div>"
      ],
      "text/plain": [
       "        text_id                                          full_text\n",
       "0  0000C359D63E  when a person has no experience on a job their...\n",
       "1  000BAD50D026  Do you think students would benefit from being...\n",
       "2  00367BB2546B  Thomas Jefferson once states that \"it is wonde..."
      ]
     },
     "execution_count": 5,
     "metadata": {},
     "output_type": "execute_result"
    }
   ],
   "source": [
    "test"
   ]
  },
  {
   "cell_type": "code",
   "execution_count": 6,
   "id": "19d27174",
   "metadata": {
    "execution": {
     "iopub.execute_input": "2023-07-18T00:40:59.742404Z",
     "iopub.status.busy": "2023-07-18T00:40:59.741980Z",
     "iopub.status.idle": "2023-07-18T00:40:59.759408Z",
     "shell.execute_reply": "2023-07-18T00:40:59.758161Z"
    },
    "papermill": {
     "duration": 0.035818,
     "end_time": "2023-07-18T00:40:59.762148",
     "exception": false,
     "start_time": "2023-07-18T00:40:59.726330",
     "status": "completed"
    },
    "tags": []
   },
   "outputs": [
    {
     "data": {
      "text/html": [
       "<div>\n",
       "<style scoped>\n",
       "    .dataframe tbody tr th:only-of-type {\n",
       "        vertical-align: middle;\n",
       "    }\n",
       "\n",
       "    .dataframe tbody tr th {\n",
       "        vertical-align: top;\n",
       "    }\n",
       "\n",
       "    .dataframe thead th {\n",
       "        text-align: right;\n",
       "    }\n",
       "</style>\n",
       "<table border=\"1\" class=\"dataframe\">\n",
       "  <thead>\n",
       "    <tr style=\"text-align: right;\">\n",
       "      <th></th>\n",
       "      <th>text_id</th>\n",
       "      <th>cohesion</th>\n",
       "      <th>syntax</th>\n",
       "      <th>vocabulary</th>\n",
       "      <th>phraseology</th>\n",
       "      <th>grammar</th>\n",
       "      <th>conventions</th>\n",
       "    </tr>\n",
       "  </thead>\n",
       "  <tbody>\n",
       "    <tr>\n",
       "      <th>0</th>\n",
       "      <td>0000C359D63E</td>\n",
       "      <td>3.0</td>\n",
       "      <td>3.0</td>\n",
       "      <td>3.0</td>\n",
       "      <td>3.0</td>\n",
       "      <td>3.0</td>\n",
       "      <td>3.0</td>\n",
       "    </tr>\n",
       "    <tr>\n",
       "      <th>1</th>\n",
       "      <td>000BAD50D026</td>\n",
       "      <td>3.0</td>\n",
       "      <td>3.0</td>\n",
       "      <td>3.0</td>\n",
       "      <td>3.0</td>\n",
       "      <td>3.0</td>\n",
       "      <td>3.0</td>\n",
       "    </tr>\n",
       "    <tr>\n",
       "      <th>2</th>\n",
       "      <td>00367BB2546B</td>\n",
       "      <td>3.0</td>\n",
       "      <td>3.0</td>\n",
       "      <td>3.0</td>\n",
       "      <td>3.0</td>\n",
       "      <td>3.0</td>\n",
       "      <td>3.0</td>\n",
       "    </tr>\n",
       "  </tbody>\n",
       "</table>\n",
       "</div>"
      ],
      "text/plain": [
       "        text_id  cohesion  syntax  vocabulary  phraseology  grammar  \\\n",
       "0  0000C359D63E       3.0     3.0         3.0          3.0      3.0   \n",
       "1  000BAD50D026       3.0     3.0         3.0          3.0      3.0   \n",
       "2  00367BB2546B       3.0     3.0         3.0          3.0      3.0   \n",
       "\n",
       "   conventions  \n",
       "0          3.0  \n",
       "1          3.0  \n",
       "2          3.0  "
      ]
     },
     "execution_count": 6,
     "metadata": {},
     "output_type": "execute_result"
    }
   ],
   "source": [
    "submission"
   ]
  },
  {
   "cell_type": "markdown",
   "id": "184d8dc1",
   "metadata": {
    "papermill": {
     "duration": 0.01414,
     "end_time": "2023-07-18T00:40:59.790726",
     "exception": false,
     "start_time": "2023-07-18T00:40:59.776586",
     "status": "completed"
    },
    "tags": []
   },
   "source": [
    "Analyse"
   ]
  },
  {
   "cell_type": "code",
   "execution_count": 7,
   "id": "2b971128",
   "metadata": {
    "execution": {
     "iopub.execute_input": "2023-07-18T00:40:59.821612Z",
     "iopub.status.busy": "2023-07-18T00:40:59.821195Z",
     "iopub.status.idle": "2023-07-18T00:41:00.201736Z",
     "shell.execute_reply": "2023-07-18T00:41:00.200403Z"
    },
    "papermill": {
     "duration": 0.399504,
     "end_time": "2023-07-18T00:41:00.204609",
     "exception": false,
     "start_time": "2023-07-18T00:40:59.805105",
     "status": "completed"
    },
    "tags": []
   },
   "outputs": [
    {
     "data": {
      "text/plain": [
       "<AxesSubplot:xlabel='cohesion', ylabel='Count'>"
      ]
     },
     "execution_count": 7,
     "metadata": {},
     "output_type": "execute_result"
    },
    {
     "data": {
      "image/png": "[encoded data removed]",
      "text/plain": [
       "<Figure size 432x288 with 1 Axes>"
      ]
     },
     "metadata": {
      "needs_background": "light"
     },
     "output_type": "display_data"
    }
   ],
   "source": [
    "sns.histplot(train['cohesion'])"
   ]
  },
  {
   "cell_type": "code",
   "execution_count": 8,
   "id": "23ed8939",
   "metadata": {
    "execution": {
     "iopub.execute_input": "2023-07-18T00:41:00.238017Z",
     "iopub.status.busy": "2023-07-18T00:41:00.236627Z",
     "iopub.status.idle": "2023-07-18T00:41:00.573108Z",
     "shell.execute_reply": "2023-07-18T00:41:00.571857Z"
    },
    "papermill": {
     "duration": 0.35621,
     "end_time": "2023-07-18T00:41:00.576273",
     "exception": false,
     "start_time": "2023-07-18T00:41:00.220063",
     "status": "completed"
    },
    "tags": []
   },
   "outputs": [
    {
     "data": {
      "text/plain": [
       "<AxesSubplot:xlabel='syntax', ylabel='Count'>"
      ]
     },
     "execution_count": 8,
     "metadata": {},
     "output_type": "execute_result"
    },
    {
     "data": {
      "image/png": "[encoded data removed]",
      "text/plain": [
       "<Figure size 432x288 with 1 Axes>"
      ]
     },
     "metadata": {
      "needs_background": "light"
     },
     "output_type": "display_data"
    }
   ],
   "source": [
    "sns.histplot(train['syntax'])"
   ]
  },
  {
   "cell_type": "code",
   "execution_count": 9,
   "id": "9cf1e069",
   "metadata": {
    "execution": {
     "iopub.execute_input": "2023-07-18T00:41:00.609405Z",
     "iopub.status.busy": "2023-07-18T00:41:00.608684Z",
     "iopub.status.idle": "2023-07-18T00:41:01.016434Z",
     "shell.execute_reply": "2023-07-18T00:41:01.015046Z"
    },
    "papermill": {
     "duration": 0.427478,
     "end_time": "2023-07-18T00:41:01.019163",
     "exception": false,
     "start_time": "2023-07-18T00:41:00.591685",
     "status": "completed"
    },
    "tags": []
   },
   "outputs": [
    {
     "data": {
      "text/plain": [
       "<AxesSubplot:xlabel='vocabulary', ylabel='Count'>"
      ]
     },
     "execution_count": 9,
     "metadata": {},
     "output_type": "execute_result"
    },
    {
     "data": {
      "image/png": "[encoded data removed]",
      "text/plain": [
       "<Figure size 432x288 with 1 Axes>"
      ]
     },
     "metadata": {
      "needs_background": "light"
     },
     "output_type": "display_data"
    }
   ],
   "source": [
    "sns.histplot(train['vocabulary'])"
   ]
  },
  {
   "cell_type": "code",
   "execution_count": 10,
   "id": "61beb894",
   "metadata": {
    "execution": {
     "iopub.execute_input": "2023-07-18T00:41:01.052762Z",
     "iopub.status.busy": "2023-07-18T00:41:01.052293Z",
     "iopub.status.idle": "2023-07-18T00:41:01.388934Z",
     "shell.execute_reply": "2023-07-18T00:41:01.387622Z"
    },
    "papermill": {
     "duration": 0.35693,
     "end_time": "2023-07-18T00:41:01.392037",
     "exception": false,
     "start_time": "2023-07-18T00:41:01.035107",
     "status": "completed"
    },
    "tags": []
   },
   "outputs": [
    {
     "data": {
      "text/plain": [
       "<AxesSubplot:xlabel='phraseology', ylabel='Count'>"
      ]
     },
     "execution_count": 10,
     "metadata": {},
     "output_type": "execute_result"
    },
    {
     "data": {
      "image/png": "[encoded data removed]",
      "text/plain": [
       "<Figure size 432x288 with 1 Axes>"
      ]
     },
     "metadata": {
      "needs_background": "light"
     },
     "output_type": "display_data"
    }
   ],
   "source": [
    "sns.histplot(train['phraseology'])"
   ]
  },
  {
   "cell_type": "code",
   "execution_count": 11,
   "id": "d2c27652",
   "metadata": {
    "execution": {
     "iopub.execute_input": "2023-07-18T00:41:01.426784Z",
     "iopub.status.busy": "2023-07-18T00:41:01.426375Z",
     "iopub.status.idle": "2023-07-18T00:41:01.758197Z",
     "shell.execute_reply": "2023-07-18T00:41:01.756894Z"
    },
    "papermill": {
     "duration": 0.352573,
     "end_time": "2023-07-18T00:41:01.761150",
     "exception": false,
     "start_time": "2023-07-18T00:41:01.408577",
     "status": "completed"
    },
    "tags": []
   },
   "outputs": [
    {
     "data": {
      "text/plain": [
       "<AxesSubplot:xlabel='grammar', ylabel='Count'>"
      ]
     },
     "execution_count": 11,
     "metadata": {},
     "output_type": "execute_result"
    },
    {
     "data": {
      "image/png": "[encoded data removed]",
      "text/plain": [
       "<Figure size 432x288 with 1 Axes>"
      ]
     },
     "metadata": {
      "needs_background": "light"
     },
     "output_type": "display_data"
    }
   ],
   "source": [
    "sns.histplot(train['grammar'])"
   ]
  },
  {
   "cell_type": "code",
   "execution_count": 12,
   "id": "74e241da",
   "metadata": {
    "execution": {
     "iopub.execute_input": "2023-07-18T00:41:01.797752Z",
     "iopub.status.busy": "2023-07-18T00:41:01.796759Z",
     "iopub.status.idle": "2023-07-18T00:41:02.135486Z",
     "shell.execute_reply": "2023-07-18T00:41:02.134137Z"
    },
    "papermill": {
     "duration": 0.360434,
     "end_time": "2023-07-18T00:41:02.138647",
     "exception": false,
     "start_time": "2023-07-18T00:41:01.778213",
     "status": "completed"
    },
    "tags": []
   },
   "outputs": [
    {
     "data": {
      "text/plain": [
       "<AxesSubplot:xlabel='conventions', ylabel='Count'>"
      ]
     },
     "execution_count": 12,
     "metadata": {},
     "output_type": "execute_result"
    },
    {
     "data": {
      "image/png": "[encoded data removed]",
      "text/plain": [
       "<Figure size 432x288 with 1 Axes>"
      ]
     },
     "metadata": {
      "needs_background": "light"
     },
     "output_type": "display_data"
    }
   ],
   "source": [
    "sns.histplot(train['conventions'])"
   ]
  },
  {
   "cell_type": "markdown",
   "id": "b160f348",
   "metadata": {
    "papermill": {
     "duration": 0.017005,
     "end_time": "2023-07-18T00:41:02.173822",
     "exception": false,
     "start_time": "2023-07-18T00:41:02.156817",
     "status": "completed"
    },
    "tags": []
   },
   "source": [
    "Define target"
   ]
  },
  {
   "cell_type": "code",
   "execution_count": 13,
   "id": "1606c9ae",
   "metadata": {
    "execution": {
     "iopub.execute_input": "2023-07-18T00:41:02.211376Z",
     "iopub.status.busy": "2023-07-18T00:41:02.210602Z",
     "iopub.status.idle": "2023-07-18T00:41:02.235225Z",
     "shell.execute_reply": "2023-07-18T00:41:02.233980Z"
    },
    "papermill": {
     "duration": 0.04611,
     "end_time": "2023-07-18T00:41:02.238132",
     "exception": false,
     "start_time": "2023-07-18T00:41:02.192022",
     "status": "completed"
    },
    "tags": []
   },
   "outputs": [
    {
     "data": {
      "text/html": [
       "<div>\n",
       "<style scoped>\n",
       "    .dataframe tbody tr th:only-of-type {\n",
       "        vertical-align: middle;\n",
       "    }\n",
       "\n",
       "    .dataframe tbody tr th {\n",
       "        vertical-align: top;\n",
       "    }\n",
       "\n",
       "    .dataframe thead th {\n",
       "        text-align: right;\n",
       "    }\n",
       "</style>\n",
       "<table border=\"1\" class=\"dataframe\">\n",
       "  <thead>\n",
       "    <tr style=\"text-align: right;\">\n",
       "      <th></th>\n",
       "      <th>cohesion</th>\n",
       "      <th>syntax</th>\n",
       "      <th>vocabulary</th>\n",
       "      <th>phraseology</th>\n",
       "      <th>grammar</th>\n",
       "      <th>conventions</th>\n",
       "    </tr>\n",
       "  </thead>\n",
       "  <tbody>\n",
       "    <tr>\n",
       "      <th>0</th>\n",
       "      <td>3.5</td>\n",
       "      <td>3.5</td>\n",
       "      <td>3.0</td>\n",
       "      <td>3.0</td>\n",
       "      <td>4.0</td>\n",
       "      <td>3.0</td>\n",
       "    </tr>\n",
       "    <tr>\n",
       "      <th>1</th>\n",
       "      <td>2.5</td>\n",
       "      <td>2.5</td>\n",
       "      <td>3.0</td>\n",
       "      <td>2.0</td>\n",
       "      <td>2.0</td>\n",
       "      <td>2.5</td>\n",
       "    </tr>\n",
       "    <tr>\n",
       "      <th>2</th>\n",
       "      <td>3.0</td>\n",
       "      <td>3.5</td>\n",
       "      <td>3.0</td>\n",
       "      <td>3.0</td>\n",
       "      <td>3.0</td>\n",
       "      <td>2.5</td>\n",
       "    </tr>\n",
       "    <tr>\n",
       "      <th>3</th>\n",
       "      <td>4.5</td>\n",
       "      <td>4.5</td>\n",
       "      <td>4.5</td>\n",
       "      <td>4.5</td>\n",
       "      <td>4.0</td>\n",
       "      <td>5.0</td>\n",
       "    </tr>\n",
       "    <tr>\n",
       "      <th>4</th>\n",
       "      <td>2.5</td>\n",
       "      <td>3.0</td>\n",
       "      <td>3.0</td>\n",
       "      <td>3.0</td>\n",
       "      <td>2.5</td>\n",
       "      <td>2.5</td>\n",
       "    </tr>\n",
       "    <tr>\n",
       "      <th>...</th>\n",
       "      <td>...</td>\n",
       "      <td>...</td>\n",
       "      <td>...</td>\n",
       "      <td>...</td>\n",
       "      <td>...</td>\n",
       "      <td>...</td>\n",
       "    </tr>\n",
       "    <tr>\n",
       "      <th>3906</th>\n",
       "      <td>2.5</td>\n",
       "      <td>3.0</td>\n",
       "      <td>3.0</td>\n",
       "      <td>3.5</td>\n",
       "      <td>2.5</td>\n",
       "      <td>2.5</td>\n",
       "    </tr>\n",
       "    <tr>\n",
       "      <th>3907</th>\n",
       "      <td>4.0</td>\n",
       "      <td>4.0</td>\n",
       "      <td>4.0</td>\n",
       "      <td>4.0</td>\n",
       "      <td>3.5</td>\n",
       "      <td>3.0</td>\n",
       "    </tr>\n",
       "    <tr>\n",
       "      <th>3908</th>\n",
       "      <td>2.5</td>\n",
       "      <td>3.0</td>\n",
       "      <td>3.0</td>\n",
       "      <td>3.0</td>\n",
       "      <td>3.5</td>\n",
       "      <td>3.0</td>\n",
       "    </tr>\n",
       "    <tr>\n",
       "      <th>3909</th>\n",
       "      <td>4.0</td>\n",
       "      <td>4.5</td>\n",
       "      <td>4.5</td>\n",
       "      <td>4.0</td>\n",
       "      <td>4.5</td>\n",
       "      <td>4.5</td>\n",
       "    </tr>\n",
       "    <tr>\n",
       "      <th>3910</th>\n",
       "      <td>3.5</td>\n",
       "      <td>2.5</td>\n",
       "      <td>3.5</td>\n",
       "      <td>3.0</td>\n",
       "      <td>3.0</td>\n",
       "      <td>3.5</td>\n",
       "    </tr>\n",
       "  </tbody>\n",
       "</table>\n",
       "<p>3911 rows × 6 columns</p>\n",
       "</div>"
      ],
      "text/plain": [
       "      cohesion  syntax  vocabulary  phraseology  grammar  conventions\n",
       "0          3.5     3.5         3.0          3.0      4.0          3.0\n",
       "1          2.5     2.5         3.0          2.0      2.0          2.5\n",
       "2          3.0     3.5         3.0          3.0      3.0          2.5\n",
       "3          4.5     4.5         4.5          4.5      4.0          5.0\n",
       "4          2.5     3.0         3.0          3.0      2.5          2.5\n",
       "...        ...     ...         ...          ...      ...          ...\n",
       "3906       2.5     3.0         3.0          3.5      2.5          2.5\n",
       "3907       4.0     4.0         4.0          4.0      3.5          3.0\n",
       "3908       2.5     3.0         3.0          3.0      3.5          3.0\n",
       "3909       4.0     4.5         4.5          4.0      4.5          4.5\n",
       "3910       3.5     2.5         3.5          3.0      3.0          3.5\n",
       "\n",
       "[3911 rows x 6 columns]"
      ]
     },
     "execution_count": 13,
     "metadata": {},
     "output_type": "execute_result"
    }
   ],
   "source": [
    "features = ['cohesion', 'syntax', 'vocabulary', 'phraseology', 'grammar',  'conventions']\n",
    "target = train[features]\n",
    "target"
   ]
  },
  {
   "cell_type": "markdown",
   "id": "b4ec36ad",
   "metadata": {
    "papermill": {
     "duration": 0.017271,
     "end_time": "2023-07-18T00:41:02.272850",
     "exception": false,
     "start_time": "2023-07-18T00:41:02.255579",
     "status": "completed"
    },
    "tags": []
   },
   "source": [
    "Combine train and test text"
   ]
  },
  {
   "cell_type": "code",
   "execution_count": 14,
   "id": "f59c9d39",
   "metadata": {
    "execution": {
     "iopub.execute_input": "2023-07-18T00:41:02.311149Z",
     "iopub.status.busy": "2023-07-18T00:41:02.310317Z",
     "iopub.status.idle": "2023-07-18T00:41:02.321774Z",
     "shell.execute_reply": "2023-07-18T00:41:02.320703Z"
    },
    "papermill": {
     "duration": 0.032931,
     "end_time": "2023-07-18T00:41:02.324383",
     "exception": false,
     "start_time": "2023-07-18T00:41:02.291452",
     "status": "completed"
    },
    "tags": []
   },
   "outputs": [
    {
     "data": {
      "text/plain": [
       "0       I think that students would benefit from learn...\n",
       "1       When a problem is a change you have to let it ...\n",
       "2       Dear, Principal\\n\\nIf u change the school poli...\n",
       "3       The best time in life is when you become yours...\n",
       "4       Small act of kindness can impact in other peop...\n",
       "                              ...                        \n",
       "3909    Many people disagree with Albert Schweitzer's ...\n",
       "3910    Do you think that failure is the main thing fo...\n",
       "0       when a person has no experience on a job their...\n",
       "1       Do you think students would benefit from being...\n",
       "2       Thomas Jefferson once states that \"it is wonde...\n",
       "Name: full_text, Length: 3914, dtype: object"
      ]
     },
     "execution_count": 14,
     "metadata": {},
     "output_type": "execute_result"
    }
   ],
   "source": [
    "text_train = train['full_text']\n",
    "text_test = test['full_text']\n",
    "\n",
    "text = text_train.append(text_test)\n",
    "text"
   ]
  },
  {
   "cell_type": "markdown",
   "id": "99b81923",
   "metadata": {
    "papermill": {
     "duration": 0.021764,
     "end_time": "2023-07-18T00:41:02.363874",
     "exception": false,
     "start_time": "2023-07-18T00:41:02.342110",
     "status": "completed"
    },
    "tags": []
   },
   "source": [
    "Analyse text"
   ]
  },
  {
   "cell_type": "code",
   "execution_count": 15,
   "id": "89b78119",
   "metadata": {
    "execution": {
     "iopub.execute_input": "2023-07-18T00:41:02.411241Z",
     "iopub.status.busy": "2023-07-18T00:41:02.408760Z",
     "iopub.status.idle": "2023-07-18T00:41:03.222361Z",
     "shell.execute_reply": "2023-07-18T00:41:03.220762Z"
    },
    "papermill": {
     "duration": 0.837368,
     "end_time": "2023-07-18T00:41:03.224924",
     "exception": false,
     "start_time": "2023-07-18T00:41:02.387556",
     "status": "completed"
    },
    "tags": []
   },
   "outputs": [
    {
     "name": "stdout",
     "output_type": "stream",
     "text": [
      "1707247\n"
     ]
    }
   ],
   "source": [
    "count_words = text.str.findall(r'(\\w+)').str.len()\n",
    "print(count_words.sum())"
   ]
  },
  {
   "cell_type": "markdown",
   "id": "d2cfc5da",
   "metadata": {
    "papermill": {
     "duration": 0.018554,
     "end_time": "2023-07-18T00:41:03.261514",
     "exception": false,
     "start_time": "2023-07-18T00:41:03.242960",
     "status": "completed"
    },
    "tags": []
   },
   "source": [
    "Process and clean text"
   ]
  },
  {
   "cell_type": "code",
   "execution_count": 16,
   "id": "10769a0a",
   "metadata": {
    "execution": {
     "iopub.execute_input": "2023-07-18T00:41:03.298414Z",
     "iopub.status.busy": "2023-07-18T00:41:03.297746Z",
     "iopub.status.idle": "2023-07-18T00:41:04.778639Z",
     "shell.execute_reply": "2023-07-18T00:41:04.777046Z"
    },
    "papermill": {
     "duration": 1.502313,
     "end_time": "2023-07-18T00:41:04.781257",
     "exception": false,
     "start_time": "2023-07-18T00:41:03.278944",
     "status": "completed"
    },
    "tags": []
   },
   "outputs": [
    {
     "name": "stdout",
     "output_type": "stream",
     "text": [
      "1065764\n"
     ]
    }
   ],
   "source": [
    "import re\n",
    "#from nltk.corpus import stopwords\n",
    "#from nltk.stem import PorterStemmer, WordNetLemmatizer\n",
    "\n",
    "#stopwords = set(stopwords.words(\"english\"))\n",
    "#stemmer = PorterStemmer()\n",
    "#lemmatizer = WordNetLemmatizer()\n",
    "\n",
    "\"\"\" Cleaning Text \"\"\"\n",
    "text = text.str.lower()\n",
    "\n",
    "#stem the text\n",
    "#text = text.apply(lambda x: \" \".join([stemmer.stem(i)\n",
    "#for i in re.sub(\"[^a-zA-Z]\", \" \", x).split() if i not in stopwords]).lower())\n",
    "\n",
    "#lemmatize the text\n",
    "#text = text.apply(lambda x: \" \".join([lemmatizer.lemmatize(i)\n",
    "#for i in re.sub(\"[^a-zA-Z]\", \" \", x).split() if i not in stopwords]).lower())\n",
    "\n",
    "# removing special characters and numbers\n",
    "text = text.apply(lambda x : re.sub(\"[^a-z]\\s\",\"\",x) )\n",
    "\n",
    "# remove hash tags\n",
    "text = text.str.replace(\"#\", \"\")\n",
    "\n",
    "#remove words less than 3 character and greater than 7\n",
    "text = text.apply(lambda x: ' '.join([w for w in x.split() if len(w)>2 and len(w)<8]))\n",
    "\n",
    "# removing stopwords\n",
    "#text = text.apply(lambda x : \" \".join(word for word in x.split() if word not in stopwords ))\n",
    "\n",
    "count_words = text.str.findall(r'(\\w+)').str.len()\n",
    "print(count_words.sum())"
   ]
  },
  {
   "cell_type": "markdown",
   "id": "9941a86e",
   "metadata": {
    "papermill": {
     "duration": 0.017232,
     "end_time": "2023-07-18T00:41:04.816413",
     "exception": false,
     "start_time": "2023-07-18T00:41:04.799181",
     "status": "completed"
    },
    "tags": []
   },
   "source": [
    "Remove frequently used words"
   ]
  },
  {
   "cell_type": "code",
   "execution_count": 17,
   "id": "a67a78e9",
   "metadata": {
    "execution": {
     "iopub.execute_input": "2023-07-18T00:41:04.853431Z",
     "iopub.status.busy": "2023-07-18T00:41:04.852996Z",
     "iopub.status.idle": "2023-07-18T00:41:07.563584Z",
     "shell.execute_reply": "2023-07-18T00:41:07.562230Z"
    },
    "papermill": {
     "duration": 2.732582,
     "end_time": "2023-07-18T00:41:07.566493",
     "exception": false,
     "start_time": "2023-07-18T00:41:04.833911",
     "status": "completed"
    },
    "tags": []
   },
   "outputs": [
    {
     "name": "stdout",
     "output_type": "stream",
     "text": [
      "the        52659\n",
      "and        39583\n",
      "you        34868\n",
      "that       28103\n",
      "they       23446\n",
      "have       20288\n",
      "can        18359\n",
      "for        17018\n",
      "are        14473\n",
      "not        13788\n",
      "because    13384\n",
      "people     12691\n",
      "with       11406\n",
      "will       11048\n",
      "your       10822\n",
      "school     10213\n",
      "their      10099\n",
      "more        8945\n",
      "what        8575\n",
      "get         8213\n",
      "good        8038\n",
      "like        7206\n",
      "time        7130\n",
      "work        6861\n",
      "want        6842\n",
      "dtype: int64\n",
      "661706\n"
     ]
    }
   ],
   "source": [
    "\n",
    "most_freq_words = pd.Series(' '.join(text).lower().split()).value_counts()[:25]\n",
    "text = text.apply(lambda x : \" \".join(word for word in x.split() if word not in most_freq_words ))\n",
    "print(most_freq_words)\n",
    "\n",
    "count_words = text.str.findall(r'(\\w+)').str.len()\n",
    "print(count_words.sum())\n"
   ]
  },
  {
   "cell_type": "markdown",
   "id": "de4103b8",
   "metadata": {
    "papermill": {
     "duration": 0.017883,
     "end_time": "2023-07-18T00:41:07.602919",
     "exception": false,
     "start_time": "2023-07-18T00:41:07.585036",
     "status": "completed"
    },
    "tags": []
   },
   "source": [
    "Apostrophe dictionary"
   ]
  },
  {
   "cell_type": "code",
   "execution_count": 18,
   "id": "822ad826",
   "metadata": {
    "execution": {
     "iopub.execute_input": "2023-07-18T00:41:07.641805Z",
     "iopub.status.busy": "2023-07-18T00:41:07.641400Z",
     "iopub.status.idle": "2023-07-18T00:41:07.684319Z",
     "shell.execute_reply": "2023-07-18T00:41:07.683434Z"
    },
    "papermill": {
     "duration": 0.065815,
     "end_time": "2023-07-18T00:41:07.686778",
     "exception": false,
     "start_time": "2023-07-18T00:41:07.620963",
     "status": "completed"
    },
    "tags": []
   },
   "outputs": [
    {
     "data": {
      "text/plain": [
       "{\"ain't\": 'am not / are not',\n",
       " \"aren't\": 'are not / am not',\n",
       " \"can't\": 'cannot',\n",
       " \"can't've\": 'cannot have',\n",
       " \"'cause\": 'because',\n",
       " \"could've\": 'could have',\n",
       " \"couldn't\": 'could not',\n",
       " \"couldn't've\": 'could not have',\n",
       " \"didn't\": 'did not',\n",
       " \"doesn't\": 'does not',\n",
       " \"don't\": 'do not',\n",
       " \"hadn't\": 'had not',\n",
       " \"hadn't've\": 'had not have',\n",
       " \"hasn't\": 'has not',\n",
       " \"haven't\": 'have not',\n",
       " \"he'd\": 'he had / he would',\n",
       " \"he'd've\": 'he would have',\n",
       " \"he'll\": 'he shall / he will',\n",
       " \"he'll've\": 'he shall have / he will have',\n",
       " \"he's\": 'he has / he is',\n",
       " \"how'd\": 'how did',\n",
       " \"how'd'y\": 'how do you',\n",
       " \"how'll\": 'how will',\n",
       " \"how's\": 'how has / how is',\n",
       " \"i'd\": 'I had / I would',\n",
       " \"i'd've\": 'I would have',\n",
       " \"i'll\": 'I shall / I will',\n",
       " \"i'll've\": 'I shall have / I will have',\n",
       " \"i'm\": 'I am',\n",
       " \"i've\": 'I have',\n",
       " \"isn't\": 'is not',\n",
       " \"it'd\": 'it had / it would',\n",
       " \"it'd've\": 'it would have',\n",
       " \"it'll\": 'it shall / it will',\n",
       " \"it'll've\": 'it shall have / it will have',\n",
       " \"it's\": 'it has / it is',\n",
       " \"let's\": 'let us',\n",
       " \"ma'am\": 'madam',\n",
       " \"mayn't\": 'may not',\n",
       " \"might've\": 'might have',\n",
       " \"mightn't\": 'might not',\n",
       " \"mightn't've\": 'might not have',\n",
       " \"must've\": 'must have',\n",
       " \"mustn't\": 'must not',\n",
       " \"mustn't've\": 'must not have',\n",
       " \"needn't\": 'need not',\n",
       " \"needn't've\": 'need not have',\n",
       " \"o'clock\": 'of the clock',\n",
       " \"oughtn't\": 'ought not',\n",
       " \"oughtn't've\": 'ought not have',\n",
       " \"shan't\": 'shall not',\n",
       " \"sha'n't\": 'shall not',\n",
       " \"shan't've\": 'shall not have',\n",
       " \"she'd\": 'she had / she would',\n",
       " \"she'd've\": 'she would have',\n",
       " \"she'll\": 'she shall / she will',\n",
       " \"she'll've\": 'she shall have / she will have',\n",
       " \"she's\": 'she has / she is',\n",
       " \"should've\": 'should have',\n",
       " \"shouldn't\": 'should not',\n",
       " \"shouldn't've\": 'should not have',\n",
       " \"so've\": 'so have',\n",
       " \"so's\": 'so as / so is',\n",
       " \"that'd\": 'that would / that had',\n",
       " \"that'd've\": 'that would have',\n",
       " \"that's\": 'that has / that is',\n",
       " \"there'd\": 'there had / there would',\n",
       " \"there'd've\": 'there would have',\n",
       " \"there's\": 'there has / there is',\n",
       " \"they'd\": 'they had / they would',\n",
       " \"they'd've\": 'they would have',\n",
       " \"they'll\": 'they shall / they will',\n",
       " \"they'll've\": 'they shall have / they will have',\n",
       " \"they're\": 'they are',\n",
       " \"they've\": 'they have',\n",
       " \"to've\": 'to have',\n",
       " \"wasn't\": 'was not',\n",
       " \"we'd\": 'we had / we would',\n",
       " \"we'd've\": 'we would have',\n",
       " \"we'll\": 'we will',\n",
       " \"we'll've\": 'we will have',\n",
       " \"we're\": 'we are',\n",
       " \"we've\": 'we have',\n",
       " \"weren't\": 'were not',\n",
       " \"what'll\": 'what shall / what will',\n",
       " \"what'll've\": 'what shall have / what will have',\n",
       " \"what're\": 'what are',\n",
       " \"what's\": 'what has / what is',\n",
       " \"what've\": 'what have',\n",
       " \"when's\": 'when has / when is',\n",
       " \"when've\": 'when have',\n",
       " \"where'd\": 'where did',\n",
       " \"where's\": 'where has / where is',\n",
       " \"where've\": 'where have',\n",
       " \"who'll\": 'who shall / who will',\n",
       " \"who'll've\": 'who shall have / who will have',\n",
       " \"who's\": 'who has / who is',\n",
       " \"who've\": 'who have',\n",
       " \"why's\": 'why has / why is',\n",
       " \"why've\": 'why have',\n",
       " \"will've\": 'will have',\n",
       " \"won't\": 'will not',\n",
       " \"won't've\": 'will not have',\n",
       " \"would've\": 'would have',\n",
       " \"wouldn't\": 'would not',\n",
       " \"wouldn't've\": 'would not have',\n",
       " \"y'all\": 'you all',\n",
       " \"y'all'd\": 'you all would',\n",
       " \"y'all'd've\": 'you all would have',\n",
       " \"y'all're\": 'you all are',\n",
       " \"y'all've\": 'you all have',\n",
       " \"you'd\": 'you had / you would',\n",
       " \"you'd've\": 'you would have',\n",
       " \"you'll\": 'you shall / you will',\n",
       " \"you'll've\": 'you shall have / you will have',\n",
       " \"you're\": 'you are',\n",
       " \"you've\": 'you have'}"
      ]
     },
     "execution_count": 18,
     "metadata": {},
     "output_type": "execute_result"
    }
   ],
   "source": [
    "apostrophe_dict = {\n",
    "\"ain't\": \"am not / are not\",\n",
    "\"aren't\": \"are not / am not\",\n",
    "\"can't\": \"cannot\",\n",
    "\"can't've\": \"cannot have\",\n",
    "\"'cause\": \"because\",\n",
    "\"could've\": \"could have\",\n",
    "\"couldn't\": \"could not\",\n",
    "\"couldn't've\": \"could not have\",\n",
    "\"didn't\": \"did not\",\n",
    "\"doesn't\": \"does not\",\n",
    "\"don't\": \"do not\",\n",
    "\"hadn't\": \"had not\",\n",
    "\"hadn't've\": \"had not have\",\n",
    "\"hasn't\": \"has not\",\n",
    "\"haven't\": \"have not\",\n",
    "\"he'd\": \"he had / he would\",\n",
    "\"he'd've\": \"he would have\",\n",
    "\"he'll\": \"he shall / he will\",\n",
    "\"he'll've\": \"he shall have / he will have\",\n",
    "\"he's\": \"he has / he is\",\n",
    "\"how'd\": \"how did\",\n",
    "\"how'd'y\": \"how do you\",\n",
    "\"how'll\": \"how will\",\n",
    "\"how's\": \"how has / how is\",\n",
    "\"i'd\": \"I had / I would\",\n",
    "\"i'd've\": \"I would have\",\n",
    "\"i'll\": \"I shall / I will\",\n",
    "\"i'll've\": \"I shall have / I will have\",\n",
    "\"i'm\": \"I am\",\n",
    "\"i've\": \"I have\",\n",
    "\"isn't\": \"is not\",\n",
    "\"it'd\": \"it had / it would\",\n",
    "\"it'd've\": \"it would have\",\n",
    "\"it'll\": \"it shall / it will\",\n",
    "\"it'll've\": \"it shall have / it will have\",\n",
    "\"it's\": \"it has / it is\",\n",
    "\"let's\": \"let us\",\n",
    "\"ma'am\": \"madam\",\n",
    "\"mayn't\": \"may not\",\n",
    "\"might've\": \"might have\",\n",
    "\"mightn't\": \"might not\",\n",
    "\"mightn't've\": \"might not have\",\n",
    "\"must've\": \"must have\",\n",
    "\"mustn't\": \"must not\",\n",
    "\"mustn't've\": \"must not have\",\n",
    "\"needn't\": \"need not\",\n",
    "\"needn't've\": \"need not have\",\n",
    "\"o'clock\": \"of the clock\",\n",
    "\"oughtn't\": \"ought not\",\n",
    "\"oughtn't've\": \"ought not have\",\n",
    "\"shan't\": \"shall not\",\n",
    "\"sha'n't\": \"shall not\",\n",
    "\"shan't've\": \"shall not have\",\n",
    "\"she'd\": \"she had / she would\",\n",
    "\"she'd've\": \"she would have\",\n",
    "\"she'll\": \"she shall / she will\",\n",
    "\"she'll've\": \"she shall have / she will have\",\n",
    "\"she's\": \"she has / she is\",\n",
    "\"should've\": \"should have\",\n",
    "\"shouldn't\": \"should not\",\n",
    "\"shouldn't've\": \"should not have\",\n",
    "\"so've\": \"so have\",\n",
    "\"so's\": \"so as / so is\",\n",
    "\"that'd\": \"that would / that had\",\n",
    "\"that'd've\": \"that would have\",\n",
    "\"that's\": \"that has / that is\",\n",
    "\"there'd\": \"there had / there would\",\n",
    "\"there'd've\": \"there would have\",\n",
    "\"there's\": \"there has / there is\",\n",
    "\"they'd\": \"they had / they would\",\n",
    "\"they'd've\": \"they would have\",\n",
    "\"they'll\": \"they shall / they will\",\n",
    "\"they'll've\": \"they shall have / they will have\",\n",
    "\"they're\": \"they are\",\n",
    "\"they've\": \"they have\",\n",
    "\"to've\": \"to have\",\n",
    "\"wasn't\": \"was not\",\n",
    "\"we'd\": \"we had / we would\",\n",
    "\"we'd've\": \"we would have\",\n",
    "\"we'll\": \"we will\",\n",
    "\"we'll've\": \"we will have\",\n",
    "\"we're\": \"we are\",\n",
    "\"we've\": \"we have\",\n",
    "\"weren't\": \"were not\",\n",
    "\"what'll\": \"what shall / what will\",\n",
    "\"what'll've\": \"what shall have / what will have\",\n",
    "\"what're\": \"what are\",\n",
    "\"what's\": \"what has / what is\",\n",
    "\"what've\": \"what have\",\n",
    "\"when's\": \"when has / when is\",\n",
    "\"when've\": \"when have\",\n",
    "\"where'd\": \"where did\",\n",
    "\"where's\": \"where has / where is\",\n",
    "\"where've\": \"where have\",\n",
    "\"who'll\": \"who shall / who will\",\n",
    "\"who'll've\": \"who shall have / who will have\",\n",
    "\"who's\": \"who has / who is\",\n",
    "\"who've\": \"who have\",\n",
    "\"why's\": \"why has / why is\",\n",
    "\"why've\": \"why have\",\n",
    "\"will've\": \"will have\",\n",
    "\"won't\": \"will not\",\n",
    "\"won't've\": \"will not have\",\n",
    "\"would've\": \"would have\",\n",
    "\"wouldn't\": \"would not\",\n",
    "\"wouldn't've\": \"would not have\",\n",
    "\"y'all\": \"you all\",\n",
    "\"y'all'd\": \"you all would\",\n",
    "\"y'all'd've\": \"you all would have\",\n",
    "\"y'all're\": \"you all are\",\n",
    "\"y'all've\": \"you all have\",\n",
    "\"you'd\": \"you had / you would\",\n",
    "\"you'd've\": \"you would have\",\n",
    "\"you'll\": \"you shall / you will\",\n",
    "\"you'll've\": \"you shall have / you will have\",\n",
    "\"you're\": \"you are\",\n",
    "\"you've\": \"you have\"\n",
    "}\n",
    "apostrophe_dict"
   ]
  },
  {
   "cell_type": "markdown",
   "id": "e5c265d0",
   "metadata": {
    "papermill": {
     "duration": 0.018692,
     "end_time": "2023-07-18T00:41:07.723682",
     "exception": false,
     "start_time": "2023-07-18T00:41:07.704990",
     "status": "completed"
    },
    "tags": []
   },
   "source": [
    "Function to replace words in dictionary"
   ]
  },
  {
   "cell_type": "code",
   "execution_count": 19,
   "id": "773b761b",
   "metadata": {
    "execution": {
     "iopub.execute_input": "2023-07-18T00:41:07.762400Z",
     "iopub.status.busy": "2023-07-18T00:41:07.761958Z",
     "iopub.status.idle": "2023-07-18T00:41:07.768844Z",
     "shell.execute_reply": "2023-07-18T00:41:07.767589Z"
    },
    "papermill": {
     "duration": 0.029291,
     "end_time": "2023-07-18T00:41:07.771286",
     "exception": false,
     "start_time": "2023-07-18T00:41:07.741995",
     "status": "completed"
    },
    "tags": []
   },
   "outputs": [],
   "source": [
    "def lookup_dict(txt, dictionary):\n",
    "    for word in txt.split():\n",
    "        if word.lower() in dictionary:\n",
    "            if word.lower() in txt.split():\n",
    "                txt = txt.replace(word, dictionary[word.lower()])\n",
    "    return txt"
   ]
  },
  {
   "cell_type": "code",
   "execution_count": 20,
   "id": "7df0841b",
   "metadata": {
    "execution": {
     "iopub.execute_input": "2023-07-18T00:41:07.811230Z",
     "iopub.status.busy": "2023-07-18T00:41:07.810774Z",
     "iopub.status.idle": "2023-07-18T00:41:08.237645Z",
     "shell.execute_reply": "2023-07-18T00:41:08.236584Z"
    },
    "papermill": {
     "duration": 0.450324,
     "end_time": "2023-07-18T00:41:08.240316",
     "exception": false,
     "start_time": "2023-07-18T00:41:07.789992",
     "status": "completed"
    },
    "tags": []
   },
   "outputs": [],
   "source": [
    "text = text.apply(lambda x: lookup_dict(x,apostrophe_dict))"
   ]
  },
  {
   "cell_type": "markdown",
   "id": "0f36afc3",
   "metadata": {
    "papermill": {
     "duration": 0.01875,
     "end_time": "2023-07-18T00:41:08.277760",
     "exception": false,
     "start_time": "2023-07-18T00:41:08.259010",
     "status": "completed"
    },
    "tags": []
   },
   "source": [
    "Remove rare words"
   ]
  },
  {
   "cell_type": "code",
   "execution_count": 21,
   "id": "cd22fe54",
   "metadata": {
    "execution": {
     "iopub.execute_input": "2023-07-18T00:41:08.318110Z",
     "iopub.status.busy": "2023-07-18T00:41:08.317358Z",
     "iopub.status.idle": "2023-07-18T00:41:08.750657Z",
     "shell.execute_reply": "2023-07-18T00:41:08.749158Z"
    },
    "papermill": {
     "duration": 0.457957,
     "end_time": "2023-07-18T00:41:08.753757",
     "exception": false,
     "start_time": "2023-07-18T00:41:08.295800",
     "status": "completed"
    },
    "tags": []
   },
   "outputs": [
    {
     "name": "stdout",
     "output_type": "stream",
     "text": [
      "655620\n"
     ]
    }
   ],
   "source": [
    "from collections import Counter\n",
    "from itertools import chain\n",
    "\n",
    "# split words into lists\n",
    "v = text.str.split().tolist() \n",
    "# compute global word frequency\n",
    "c = Counter(chain.from_iterable(v))\n",
    "# filter, join, and re-assign\n",
    "text = [' '.join([j for j in i if c[j] > 1]) for i in v]\n",
    "text = pd.Series(text)\n",
    "\n",
    "total_word = 0\n",
    "for x,word in enumerate(text):\n",
    "    num_word = len(word.split())\n",
    "    #print(num_word)\n",
    "    total_word = total_word + num_word\n",
    "print(total_word)"
   ]
  },
  {
   "cell_type": "markdown",
   "id": "a7b46de2",
   "metadata": {
    "papermill": {
     "duration": 0.017932,
     "end_time": "2023-07-18T00:41:08.792163",
     "exception": false,
     "start_time": "2023-07-18T00:41:08.774231",
     "status": "completed"
    },
    "tags": []
   },
   "source": [
    "Define X, y and X_text"
   ]
  },
  {
   "cell_type": "code",
   "execution_count": 22,
   "id": "fa5aa736",
   "metadata": {
    "execution": {
     "iopub.execute_input": "2023-07-18T00:41:08.831142Z",
     "iopub.status.busy": "2023-07-18T00:41:08.829857Z",
     "iopub.status.idle": "2023-07-18T00:41:08.838308Z",
     "shell.execute_reply": "2023-07-18T00:41:08.837438Z"
    },
    "papermill": {
     "duration": 0.030309,
     "end_time": "2023-07-18T00:41:08.840640",
     "exception": false,
     "start_time": "2023-07-18T00:41:08.810331",
     "status": "completed"
    },
    "tags": []
   },
   "outputs": [
    {
     "data": {
      "text/plain": [
       "((3911,), (3,), (3911, 6))"
      ]
     },
     "execution_count": 22,
     "metadata": {},
     "output_type": "execute_result"
    }
   ],
   "source": [
    "y = target\n",
    "X = text[: len(train)]\n",
    "X_test = text[len(train) :]\n",
    "X.shape, X_test.shape, y.shape"
   ]
  },
  {
   "cell_type": "markdown",
   "id": "022b8450",
   "metadata": {
    "papermill": {
     "duration": 0.017928,
     "end_time": "2023-07-18T00:41:08.876884",
     "exception": false,
     "start_time": "2023-07-18T00:41:08.858956",
     "status": "completed"
    },
    "tags": []
   },
   "source": [
    "Convertt text to frequency"
   ]
  },
  {
   "cell_type": "code",
   "execution_count": 23,
   "id": "79b179c5",
   "metadata": {
    "execution": {
     "iopub.execute_input": "2023-07-18T00:41:08.915935Z",
     "iopub.status.busy": "2023-07-18T00:41:08.914866Z",
     "iopub.status.idle": "2023-07-18T00:41:09.938347Z",
     "shell.execute_reply": "2023-07-18T00:41:09.937142Z"
    },
    "papermill": {
     "duration": 1.045865,
     "end_time": "2023-07-18T00:41:09.941115",
     "exception": false,
     "start_time": "2023-07-18T00:41:08.895250",
     "status": "completed"
    },
    "tags": []
   },
   "outputs": [
    {
     "name": "stdout",
     "output_type": "stream",
     "text": [
      "['1years' 'ability' 'able' 'accept' 'access']\n"
     ]
    }
   ],
   "source": [
    "from sklearn.feature_extraction.text import TfidfVectorizer\n",
    "\n",
    "vectorizer_tfidf = TfidfVectorizer(stop_words='english', max_df=0.5, min_df=0.01)\n",
    "\n",
    "#X = X.to_list()\n",
    "X = list(map(''.join, X))\n",
    "\n",
    "#X_train = np.array(X_train).tolist()\n",
    "#X_train = list(map(''.join, X_train))\n",
    "\n",
    "#X_val = np.array(X_val).tolist()\n",
    "#X_val = list(map(''.join, X_val))\n",
    "\n",
    "X_test = np.array(X_test).tolist()\n",
    "X_test = list(map(''.join, X_test))\n",
    "\n",
    "X_tfIdf = vectorizer_tfidf.fit_transform(X)\n",
    "#X_train_tfIdf = vectorizer_tfidf.fit_transform(X_train)\n",
    "#X_val_tfIdf = vectorizer_tfidf.transform(X_val)\n",
    "X_test_tfIdf = vectorizer_tfidf.transform(X_test)\n",
    "print(vectorizer_tfidf.get_feature_names_out()[:5])"
   ]
  },
  {
   "cell_type": "code",
   "execution_count": 24,
   "id": "f7d76811",
   "metadata": {
    "execution": {
     "iopub.execute_input": "2023-07-18T00:41:09.980610Z",
     "iopub.status.busy": "2023-07-18T00:41:09.979806Z",
     "iopub.status.idle": "2023-07-18T00:41:09.987676Z",
     "shell.execute_reply": "2023-07-18T00:41:09.986400Z"
    },
    "papermill": {
     "duration": 0.03014,
     "end_time": "2023-07-18T00:41:09.990166",
     "exception": false,
     "start_time": "2023-07-18T00:41:09.960026",
     "status": "completed"
    },
    "tags": []
   },
   "outputs": [
    {
     "data": {
      "text/plain": [
       "((3911, 892), (3, 892), (3911, 6))"
      ]
     },
     "execution_count": 24,
     "metadata": {},
     "output_type": "execute_result"
    }
   ],
   "source": [
    "X_tfIdf.shape, X_test_tfIdf.shape, y.shape"
   ]
  },
  {
   "cell_type": "markdown",
   "id": "99b07fee",
   "metadata": {
    "papermill": {
     "duration": 0.018165,
     "end_time": "2023-07-18T00:41:10.026832",
     "exception": false,
     "start_time": "2023-07-18T00:41:10.008667",
     "status": "completed"
    },
    "tags": []
   },
   "source": [
    "Select model"
   ]
  },
  {
   "cell_type": "code",
   "execution_count": 25,
   "id": "d38624ae",
   "metadata": {
    "execution": {
     "iopub.execute_input": "2023-07-18T00:41:10.066493Z",
     "iopub.status.busy": "2023-07-18T00:41:10.065454Z",
     "iopub.status.idle": "2023-07-18T00:42:35.539428Z",
     "shell.execute_reply": "2023-07-18T00:42:35.538039Z"
    },
    "papermill": {
     "duration": 85.515633,
     "end_time": "2023-07-18T00:42:35.561060",
     "exception": false,
     "start_time": "2023-07-18T00:41:10.045427",
     "status": "completed"
    },
    "tags": []
   },
   "outputs": [
    {
     "name": "stdout",
     "output_type": "stream",
     "text": [
      "0.8650634899365106\n"
     ]
    }
   ],
   "source": [
    "from sklearn.multioutput import MultiOutputRegressor\n",
    "from sklearn.svm import SVR\n",
    "\n",
    "chain = MultiOutputRegressor(SVR())\n",
    "chain.fit(X_tfIdf, y)\n",
    "print(chain.score(X_tfIdf,y))"
   ]
  },
  {
   "cell_type": "markdown",
   "id": "d88d88cb",
   "metadata": {
    "papermill": {
     "duration": 0.018465,
     "end_time": "2023-07-18T00:42:35.598368",
     "exception": false,
     "start_time": "2023-07-18T00:42:35.579903",
     "status": "completed"
    },
    "tags": []
   },
   "source": [
    "Predict on X_test"
   ]
  },
  {
   "cell_type": "code",
   "execution_count": 26,
   "id": "19e14ea9",
   "metadata": {
    "execution": {
     "iopub.execute_input": "2023-07-18T00:42:35.638568Z",
     "iopub.status.busy": "2023-07-18T00:42:35.638170Z",
     "iopub.status.idle": "2023-07-18T00:42:35.691021Z",
     "shell.execute_reply": "2023-07-18T00:42:35.689901Z"
    },
    "papermill": {
     "duration": 0.076062,
     "end_time": "2023-07-18T00:42:35.693770",
     "exception": false,
     "start_time": "2023-07-18T00:42:35.617708",
     "status": "completed"
    },
    "tags": []
   },
   "outputs": [
    {
     "data": {
      "text/plain": [
       "array([[2.95117865, 2.76305121, 3.18628012, 3.03461107, 2.63614762,\n",
       "        2.65082563],\n",
       "       [3.2355938 , 3.03939367, 3.03709362, 2.69927823, 2.74425774,\n",
       "        3.17364303],\n",
       "       [3.56691566, 3.43049379, 3.68952995, 3.43360652, 3.37950925,\n",
       "        3.37137239]])"
      ]
     },
     "execution_count": 26,
     "metadata": {},
     "output_type": "execute_result"
    }
   ],
   "source": [
    "predictions = chain.predict(X_test_tfIdf)\n",
    "predictions"
   ]
  },
  {
   "cell_type": "markdown",
   "id": "aafd420b",
   "metadata": {
    "papermill": {
     "duration": 0.019134,
     "end_time": "2023-07-18T00:42:35.734498",
     "exception": false,
     "start_time": "2023-07-18T00:42:35.715364",
     "status": "completed"
    },
    "tags": []
   },
   "source": [
    "Prepare submission"
   ]
  },
  {
   "cell_type": "code",
   "execution_count": 27,
   "id": "ba9603cb",
   "metadata": {
    "execution": {
     "iopub.execute_input": "2023-07-18T00:42:35.776137Z",
     "iopub.status.busy": "2023-07-18T00:42:35.775391Z",
     "iopub.status.idle": "2023-07-18T00:42:35.799436Z",
     "shell.execute_reply": "2023-07-18T00:42:35.798564Z"
    },
    "papermill": {
     "duration": 0.046958,
     "end_time": "2023-07-18T00:42:35.801693",
     "exception": false,
     "start_time": "2023-07-18T00:42:35.754735",
     "status": "completed"
    },
    "tags": []
   },
   "outputs": [
    {
     "data": {
      "text/html": [
       "<div>\n",
       "<style scoped>\n",
       "    .dataframe tbody tr th:only-of-type {\n",
       "        vertical-align: middle;\n",
       "    }\n",
       "\n",
       "    .dataframe tbody tr th {\n",
       "        vertical-align: top;\n",
       "    }\n",
       "\n",
       "    .dataframe thead th {\n",
       "        text-align: right;\n",
       "    }\n",
       "</style>\n",
       "<table border=\"1\" class=\"dataframe\">\n",
       "  <thead>\n",
       "    <tr style=\"text-align: right;\">\n",
       "      <th></th>\n",
       "      <th>text_id</th>\n",
       "      <th>cohesion</th>\n",
       "      <th>syntax</th>\n",
       "      <th>vocabulary</th>\n",
       "      <th>phraseology</th>\n",
       "      <th>grammar</th>\n",
       "      <th>conventions</th>\n",
       "    </tr>\n",
       "  </thead>\n",
       "  <tbody>\n",
       "    <tr>\n",
       "      <th>0</th>\n",
       "      <td>0000C359D63E</td>\n",
       "      <td>2.951179</td>\n",
       "      <td>2.763051</td>\n",
       "      <td>3.186280</td>\n",
       "      <td>3.034611</td>\n",
       "      <td>2.636148</td>\n",
       "      <td>2.650826</td>\n",
       "    </tr>\n",
       "    <tr>\n",
       "      <th>1</th>\n",
       "      <td>000BAD50D026</td>\n",
       "      <td>3.235594</td>\n",
       "      <td>3.039394</td>\n",
       "      <td>3.037094</td>\n",
       "      <td>2.699278</td>\n",
       "      <td>2.744258</td>\n",
       "      <td>3.173643</td>\n",
       "    </tr>\n",
       "    <tr>\n",
       "      <th>2</th>\n",
       "      <td>00367BB2546B</td>\n",
       "      <td>3.566916</td>\n",
       "      <td>3.430494</td>\n",
       "      <td>3.689530</td>\n",
       "      <td>3.433607</td>\n",
       "      <td>3.379509</td>\n",
       "      <td>3.371372</td>\n",
       "    </tr>\n",
       "  </tbody>\n",
       "</table>\n",
       "</div>"
      ],
      "text/plain": [
       "        text_id  cohesion    syntax  vocabulary  phraseology   grammar  \\\n",
       "0  0000C359D63E  2.951179  2.763051    3.186280     3.034611  2.636148   \n",
       "1  000BAD50D026  3.235594  3.039394    3.037094     2.699278  2.744258   \n",
       "2  00367BB2546B  3.566916  3.430494    3.689530     3.433607  3.379509   \n",
       "\n",
       "   conventions  \n",
       "0     2.650826  \n",
       "1     3.173643  \n",
       "2     3.371372  "
      ]
     },
     "execution_count": 27,
     "metadata": {},
     "output_type": "execute_result"
    }
   ],
   "source": [
    "submission['cohesion'] = predictions[:,0]\n",
    "submission['syntax'] = predictions[:,1]\n",
    "submission['vocabulary'] = predictions[:,2]\n",
    "submission['phraseology'] = predictions[:,3]\n",
    "submission['grammar'] = predictions[:,4]\n",
    "submission['conventions'] = predictions[:,5]\n",
    "\n",
    "submission.to_csv('submission.csv',index=False) # writing data to a CSV file\n",
    "submission = pd.read_csv(\"submission.csv\")\n",
    "submission\n"
   ]
  },
  {
   "cell_type": "code",
   "execution_count": null,
   "id": "9accafc5",
   "metadata": {
    "papermill": {
     "duration": 0.018805,
     "end_time": "2023-07-18T00:42:35.839563",
     "exception": false,
     "start_time": "2023-07-18T00:42:35.820758",
     "status": "completed"
    },
    "tags": []
   },
   "outputs": [],
   "source": []
  }
 ],
 "metadata": {
  "kernelspec": {
   "display_name": "Python 3",
   "language": "python",
   "name": "python3"
  },
  "language_info": {
   "codemirror_mode": {
    "name": "ipython",
    "version": 3
   },
   "file_extension": ".py",
   "mimetype": "text/x-python",
   "name": "python",
   "nbconvert_exporter": "python",
   "pygments_lexer": "ipython3",
   "version": "3.7.12"
  },
  "papermill": {
   "default_parameters": {},
   "duration": 110.686393,
   "end_time": "2023-07-18T00:42:36.680927",
   "environment_variables": {},
   "exception": null,
   "input_path": "__notebook__.ipynb",
   "output_path": "__notebook__.ipynb",
   "parameters": {},
   "start_time": "2023-07-18T00:40:45.994534",
   "version": "2.3.4"
  }
 },
 "nbformat": 4,
 "nbformat_minor": 5
}
